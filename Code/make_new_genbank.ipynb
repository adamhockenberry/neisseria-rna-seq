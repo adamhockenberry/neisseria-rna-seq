{
 "cells": [
  {
   "cell_type": "code",
   "execution_count": 1,
   "metadata": {
    "collapsed": true
   },
   "outputs": [],
   "source": [
    "%matplotlib inline"
   ]
  },
  {
   "cell_type": "code",
   "execution_count": 2,
   "metadata": {
    "collapsed": true
   },
   "outputs": [],
   "source": [
    "from Bio import SeqIO\n",
    "from Bio import SeqFeature\n",
    "from Bio.SeqRecord import SeqRecord\n",
    "\n",
    "import matplotlib.pyplot as plt\n",
    "\n",
    "import Levenshtein\n",
    "import numpy as np"
   ]
  },
  {
   "cell_type": "code",
   "execution_count": null,
   "metadata": {
    "collapsed": false
   },
   "outputs": [],
   "source": [
    "genome_old = list(SeqIO.parse('../Data/Genomes/fa1090.gb', 'genbank'))[0]\n",
    "genome_old"
   ]
  },
  {
   "cell_type": "code",
   "execution_count": null,
   "metadata": {
    "collapsed": false
   },
   "outputs": [],
   "source": [
    "genome_new = SeqRecord(genome_old.seq)\n",
    "genome_new"
   ]
  },
  {
   "cell_type": "code",
   "execution_count": null,
   "metadata": {
    "collapsed": false
   },
   "outputs": [],
   "source": [
    "new_features = []\n",
    "for loc, feature in enumerate(genome_old.features[:]):\n",
    "    if feature.type in ['tRNA', 'rRNA', 'gene', 'source']:\n",
    "        found = []\n",
    "        for loc2, feature2 in enumerate(genome_old.features[:]):\n",
    "            if feature2.type == 'CDS':\n",
    "                if feature2.location.start == feature.location.start and feature2.location.end == feature.location.end:\n",
    "                    found.append(feature2)\n",
    "        if len(found) == 0:\n",
    "            new_features.append(feature)\n",
    "print(len(new_features), len(genome_old.features))"
   ]
  },
  {
   "cell_type": "code",
   "execution_count": null,
   "metadata": {
    "collapsed": true
   },
   "outputs": [],
   "source": [
    "genome_new.features = new_features"
   ]
  },
  {
   "cell_type": "code",
   "execution_count": null,
   "metadata": {
    "collapsed": false
   },
   "outputs": [],
   "source": [
    "potential_proteins = list(SeqIO.parse('../Data/fa1090_new_annotations.fasta', \"fasta\"))\n",
    "print(len(potential_proteins))\n",
    "print('####')\n",
    "print(potential_proteins[0])"
   ]
  },
  {
   "cell_type": "code",
   "execution_count": null,
   "metadata": {
    "collapsed": false
   },
   "outputs": [],
   "source": [
    "frame_dictionary = {}\n",
    "frame_dictionary['frame_1_plus'] = genome_new.seq.translate()\n",
    "frame_dictionary['frame_2_plus'] = genome_new.seq[1:].translate()\n",
    "frame_dictionary['frame_3_plus'] = genome_new.seq[2:].translate()\n",
    "frame_dictionary['frame_1_minus'] = genome_new.seq.reverse_complement().translate()\n",
    "frame_dictionary['frame_2_minus'] = genome_new.seq[:-1].reverse_complement().translate()\n",
    "frame_dictionary['frame_3_minus']= genome_new.seq[:-2].reverse_complement().translate()"
   ]
  },
  {
   "cell_type": "code",
   "execution_count": null,
   "metadata": {
    "collapsed": false,
    "scrolled": true
   },
   "outputs": [],
   "source": [
    "problem_children = []\n",
    "genome_seq_length = len(genome_new.seq)\n",
    "acceptable_mismatches = 2\n",
    "\n",
    "for numb, protein in enumerate(potential_proteins[:]):\n",
    "    print(numb, protein.id)\n",
    "    length_of_search_seq = len(protein.seq)\n",
    "    protein_seq = str(protein.seq)\n",
    "    found_stats = []\n",
    "    for frame in frame_dictionary:\n",
    "        tempy_list = []\n",
    "        for position in range(len(frame_dictionary[frame])-length_of_search_seq):\n",
    "            temp_genome = str(frame_dictionary[frame])[position:position+length_of_search_seq]\n",
    "            tempy_list.append(Levenshtein.hamming(temp_genome, protein_seq))\n",
    "        found_stats.append((frame, np.argmin(tempy_list), tempy_list[np.argmin(tempy_list)]))\n",
    "    \n",
    "    best = min([i[2] for i in found_stats])\n",
    "    if best > acceptable_mismatches:\n",
    "        problem_children.append(protein)\n",
    "        continue\n",
    "        \n",
    "    for frame, position_of_hit, hit in found_stats:\n",
    "        if hit <= acceptable_mismatches:\n",
    "            if frame == 'frame_1_plus':\n",
    "                my_start_pos = position_of_hit*3\n",
    "                my_end_pos = position_of_hit*3 + length_of_search_seq*3 + 3\n",
    "                my_feature_strand = 1\n",
    "            elif frame == 'frame_2_plus':\n",
    "                my_start_pos = position_of_hit*3 + 1\n",
    "                my_end_pos = position_of_hit*3 + 1 + length_of_search_seq*3 + 3\n",
    "                my_feature_strand = 1\n",
    "            elif frame == 'frame_3_plus':\n",
    "                my_start_pos = position_of_hit*3 + 2\n",
    "                my_end_pos = position_of_hit*3 + 2 + length_of_search_seq*3 + 3\n",
    "                my_feature_strand = 1\n",
    "            elif frame == 'frame_1_minus':\n",
    "                my_start_pos = genome_seq_length - position_of_hit*3 - length_of_search_seq*3 - 3\n",
    "                my_end_pos = genome_seq_length - position_of_hit*3\n",
    "                my_feature_strand = -1\n",
    "            elif frame == 'frame_2_minus':\n",
    "                my_start_pos = genome_seq_length - position_of_hit*3 - length_of_search_seq*3 - 4\n",
    "                my_end_pos = genome_seq_length - position_of_hit*3 - 1\n",
    "                my_feature_strand = -1\n",
    "            elif frame == 'frame_3_minus':\n",
    "                my_start_pos = genome_seq_length - position_of_hit*3 - length_of_search_seq*3 - 5\n",
    "                my_end_pos = genome_seq_length - position_of_hit*3 - 2\n",
    "                my_feature_strand = -1\n",
    "            my_feature_location = SeqFeature.FeatureLocation(int(my_start_pos), int(my_end_pos), strand=my_feature_strand)\n",
    "            my_feature_locus = protein.id\n",
    "            my_feature_product = protein.description\n",
    "            my_feature_notes = 'Exact hit or close to it'\n",
    "            my_feature_qualifiers = {'codon_start': ['1'], 'locus_tag': [my_feature_locus],\n",
    "             'note': [my_feature_notes],\n",
    "             'product': [my_feature_product],\n",
    "             'transl_table': ['11']}\n",
    "\n",
    "            # 4. Create a SeqFeature\n",
    "            my_feature_gene = SeqFeature.SeqFeature(my_feature_location, type='gene', qualifiers = my_feature_qualifiers)\n",
    "            my_feature_cds = SeqFeature.SeqFeature(my_feature_location, type='CDS', qualifiers = my_feature_qualifiers)\n",
    "\n",
    "            # 5. Append your newly created SeqFeature to your SeqRecord\n",
    "            genome_new.features.append(my_feature_gene)\n",
    "            genome_new.features.append(my_feature_cds)"
   ]
  },
  {
   "cell_type": "code",
   "execution_count": null,
   "metadata": {
    "collapsed": false
   },
   "outputs": [],
   "source": [
    "print(len(problem_children), len(genome_new.features), len(genome_old.features))"
   ]
  },
  {
   "cell_type": "code",
   "execution_count": null,
   "metadata": {
    "collapsed": true
   },
   "outputs": [],
   "source": [
    "output_handle = open(\"temp_new_fa1090.gb\", \"w\")\n",
    "SeqIO.write(genome_new, output_handle, \"genbank\")\n",
    "output_handle.close()"
   ]
  },
  {
   "cell_type": "code",
   "execution_count": null,
   "metadata": {
    "collapsed": false
   },
   "outputs": [],
   "source": [
    "genome_seq_length = len(genome_new.seq)\n",
    "acceptable_mismatches = 2\n",
    "\n",
    "still_fucked = []\n",
    "\n",
    "for numb, protein in enumerate(problem_children[:]):\n",
    "    print(numb, protein.id)\n",
    "    length_of_search_seq = len(protein.seq)\n",
    "    half_length = int(length_of_search_seq/2.)\n",
    "    protein_seq = str(protein.seq)\n",
    "    found_stats_all = []\n",
    "    found_stats_first_half = []\n",
    "    found_stats_second_half = []\n",
    "    for frame in frame_dictionary:\n",
    "        tempy_list_all = []\n",
    "        tempy_list_first_half = []\n",
    "        tempy_list_second_half = []\n",
    "        for position in range(len(frame_dictionary[frame])-length_of_search_seq):\n",
    "            temp_genome = str(frame_dictionary[frame])[position:position+length_of_search_seq]\n",
    "            tempy_list_all.append(Levenshtein.hamming(temp_genome, protein_seq))\n",
    "            tempy_list_first_half.append(Levenshtein.hamming(temp_genome[:half_length], protein_seq[:half_length]))\n",
    "            tempy_list_second_half.append(Levenshtein.hamming(temp_genome[half_length:], protein_seq[half_length:]))\n",
    "        found_stats_all.append((frame, np.argmin(tempy_list_all), tempy_list_all[np.argmin(tempy_list_all)]))\n",
    "        found_stats_first_half.append((frame, np.argmin(tempy_list_first_half), tempy_list_first_half[np.argmin(tempy_list_first_half)]))\n",
    "        found_stats_second_half.append((frame, np.argmin(tempy_list_second_half), tempy_list_second_half[np.argmin(tempy_list_second_half)]))\n",
    "#     print(found_stats_all)\n",
    "#     print(found_stats_first_half)\n",
    "#     print(found_stats_second_half)\n",
    "    best_first_half = min([i[2] for i in found_stats_first_half])\n",
    "    best_second_half = min([i[2] for i in found_stats_second_half])\n",
    "    if min([best_first_half, best_second_half]) > acceptable_mismatches:\n",
    "        still_fucked.append(protein)\n",
    "        continue\n",
    "        \n",
    "    for frame, position_of_hit, hit in found_stats_first_half:\n",
    "        if hit <= acceptable_mismatches:\n",
    "            if frame == 'frame_1_plus':\n",
    "                my_start_pos = position_of_hit*3\n",
    "                my_end_pos = position_of_hit*3 + length_of_search_seq*3 + 3\n",
    "                my_feature_strand = 1\n",
    "            elif frame == 'frame_2_plus':\n",
    "                my_start_pos = position_of_hit*3 + 1\n",
    "                my_end_pos = position_of_hit*3 + 1 + length_of_search_seq*3 + 3\n",
    "                my_feature_strand = 1\n",
    "            elif frame == 'frame_3_plus':\n",
    "                my_start_pos = position_of_hit*3 + 2\n",
    "                my_end_pos = position_of_hit*3 + 2 + length_of_search_seq*3 + 3\n",
    "                my_feature_strand = 1\n",
    "            elif frame == 'frame_1_minus':\n",
    "                my_start_pos = genome_seq_length - position_of_hit*3 - length_of_search_seq*3 - 3\n",
    "                my_end_pos = genome_seq_length - position_of_hit*3\n",
    "                my_feature_strand = -1\n",
    "            elif frame == 'frame_2_minus':\n",
    "                my_start_pos = genome_seq_length - position_of_hit*3 - length_of_search_seq*3 - 4\n",
    "                my_end_pos = genome_seq_length - position_of_hit*3 - 1\n",
    "                my_feature_strand = -1\n",
    "            elif frame == 'frame_3_minus':\n",
    "                my_start_pos = genome_seq_length - position_of_hit*3 - length_of_search_seq*3 - 5\n",
    "                my_end_pos = genome_seq_length - position_of_hit*3 - 2\n",
    "                my_feature_strand = -1\n",
    "            my_feature_location = SeqFeature.FeatureLocation(int(my_start_pos), int(my_end_pos), strand=my_feature_strand)\n",
    "            my_feature_locus = protein.id\n",
    "            my_feature_product = protein.description\n",
    "            my_feature_notes = 'Apparent frame shift, decent match only at N-terminus'\n",
    "            my_feature_qualifiers = {'codon_start': ['1'], 'locus_tag': [my_feature_locus],\n",
    "             'note': [my_feature_notes],\n",
    "             'product': [my_feature_product],\n",
    "             'transl_table': ['11']}\n",
    "\n",
    "            # 4. Create a SeqFeature\n",
    "            my_feature_gene = SeqFeature.SeqFeature(my_feature_location, type='gene', qualifiers = my_feature_qualifiers)\n",
    "            my_feature_cds = SeqFeature.SeqFeature(my_feature_location, type='CDS', qualifiers = my_feature_qualifiers)\n",
    "\n",
    "            # 5. Append your newly created SeqFeature to your SeqRecord\n",
    "            genome_new.features.append(my_feature_gene)\n",
    "            genome_new.features.append(my_feature_cds)\n",
    "            \n",
    "    for frame, position_of_hit, hit in found_stats_second_half:\n",
    "        if hit <= acceptable_mismatches:\n",
    "            if frame == 'frame_1_plus':\n",
    "                my_start_pos = position_of_hit*3\n",
    "                my_end_pos = position_of_hit*3 + length_of_search_seq*3 + 3\n",
    "                my_feature_strand = 1\n",
    "            elif frame == 'frame_2_plus':\n",
    "                my_start_pos = position_of_hit*3 + 1\n",
    "                my_end_pos = position_of_hit*3 + 1 + length_of_search_seq*3 + 3\n",
    "                my_feature_strand = 1\n",
    "            elif frame == 'frame_3_plus':\n",
    "                my_start_pos = position_of_hit*3 + 2\n",
    "                my_end_pos = position_of_hit*3 + 2 + length_of_search_seq*3 + 3\n",
    "                my_feature_strand = 1\n",
    "            elif frame == 'frame_1_minus':\n",
    "                my_start_pos = genome_seq_length - position_of_hit*3 - length_of_search_seq*3 - 3\n",
    "                my_end_pos = genome_seq_length - position_of_hit*3\n",
    "                my_feature_strand = -1\n",
    "            elif frame == 'frame_2_minus':\n",
    "                my_start_pos = genome_seq_length - position_of_hit*3 - length_of_search_seq*3 - 4\n",
    "                my_end_pos = genome_seq_length - position_of_hit*3 - 1\n",
    "                my_feature_strand = -1\n",
    "            elif frame == 'frame_3_minus':\n",
    "                my_start_pos = genome_seq_length - position_of_hit*3 - length_of_search_seq*3 - 5\n",
    "                my_end_pos = genome_seq_length - position_of_hit*3 - 2\n",
    "                my_feature_strand = -1\n",
    "            my_feature_location = SeqFeature.FeatureLocation(int(my_start_pos), int(my_end_pos), strand=my_feature_strand)\n",
    "            my_feature_locus = protein.id\n",
    "            my_feature_product = protein.description\n",
    "            my_feature_notes = 'Apparent frame shift, decent match only at C-terminus'\n",
    "            my_feature_qualifiers = {'codon_start': ['1'], 'locus_tag': [my_feature_locus],\n",
    "             'note': [my_feature_notes],\n",
    "             'product': [my_feature_product],\n",
    "             'transl_table': ['11']}\n",
    "\n",
    "            # 4. Create a SeqFeature\n",
    "            my_feature_gene = SeqFeature.SeqFeature(my_feature_location, type='gene', qualifiers = my_feature_qualifiers)\n",
    "            my_feature_cds = SeqFeature.SeqFeature(my_feature_location, type='CDS', qualifiers = my_feature_qualifiers)\n",
    "\n",
    "            # 5. Append your newly created SeqFeature to your SeqRecord\n",
    "            genome_new.features.append(my_feature_gene)\n",
    "            genome_new.features.append(my_feature_cds)"
   ]
  },
  {
   "cell_type": "code",
   "execution_count": null,
   "metadata": {
    "collapsed": false
   },
   "outputs": [],
   "source": [
    "print(len(still_fucked), len(genome_new.features), len(genome_old.features))"
   ]
  },
  {
   "cell_type": "code",
   "execution_count": null,
   "metadata": {
    "collapsed": true
   },
   "outputs": [],
   "source": [
    "output_handle = open(\"temp_new_fa1090.gb\", \"w\")\n",
    "SeqIO.write(genome_new, output_handle, \"genbank\")\n",
    "output_handle.close()"
   ]
  },
  {
   "cell_type": "code",
   "execution_count": null,
   "metadata": {
    "collapsed": true
   },
   "outputs": [],
   "source": []
  },
  {
   "cell_type": "markdown",
   "metadata": {},
   "source": [
    "# Annotations for sRNAs!"
   ]
  },
  {
   "cell_type": "code",
   "execution_count": 3,
   "metadata": {
    "collapsed": false
   },
   "outputs": [
    {
     "data": {
      "text/plain": [
       "SeqRecord(seq=Seq('ATAAATTTTTGCACGGGTTGTGGATAAAATATCGGCGAGTCGGTATAATCGGTT...TGG', IUPACAmbiguousDNA()), id='NC_002946.2', name='NC_002946', description='Neisseria gonorrhoeae FA 1090 chromosome, complete genome.', dbxrefs=['BioProject:PRJNA57611'])"
      ]
     },
     "execution_count": 3,
     "metadata": {},
     "output_type": "execute_result"
    }
   ],
   "source": [
    "genome_old = list(SeqIO.parse('../Data/Genomes/fa1090.gb', 'genbank'))[0]\n",
    "genome_old"
   ]
  },
  {
   "cell_type": "code",
   "execution_count": 4,
   "metadata": {
    "collapsed": false
   },
   "outputs": [
    {
     "data": {
      "text/plain": [
       "SeqRecord(seq=Seq('ATAAATTTTTGCACGGGTTGTGGATAAAATATCGGCGAGTCGGTATAATCGGTT...TGG', IUPACAmbiguousDNA()), id='<unknown id>', name='<unknown name>', description='<unknown description>', dbxrefs=[])"
      ]
     },
     "execution_count": 4,
     "metadata": {},
     "output_type": "execute_result"
    }
   ],
   "source": [
    "genome_new = SeqRecord(genome_old.seq)\n",
    "genome_new"
   ]
  },
  {
   "cell_type": "code",
   "execution_count": null,
   "metadata": {
    "collapsed": true
   },
   "outputs": [],
   "source": []
  },
  {
   "cell_type": "code",
   "execution_count": null,
   "metadata": {
    "collapsed": true
   },
   "outputs": [],
   "source": []
  },
  {
   "cell_type": "markdown",
   "metadata": {},
   "source": [
    "# Scratch"
   ]
  },
  {
   "cell_type": "code",
   "execution_count": 46,
   "metadata": {
    "collapsed": true
   },
   "outputs": [],
   "source": [
    "import pandas as pd\n",
    "import random"
   ]
  },
  {
   "cell_type": "code",
   "execution_count": 55,
   "metadata": {
    "collapsed": false
   },
   "outputs": [
    {
     "data": {
      "text/plain": [
       "10"
      ]
     },
     "execution_count": 55,
     "metadata": {},
     "output_type": "execute_result"
    }
   ],
   "source": [
    "gene_df = pd.read_excel('/Users/adamhockenberry/Downloads/DownregulatedGenesforMeme.xlsx', header=None)\n",
    "gene_list = list(gene_df[0])\n",
    "len(gene_list)"
   ]
  },
  {
   "cell_type": "code",
   "execution_count": 56,
   "metadata": {
    "collapsed": false
   },
   "outputs": [],
   "source": [
    "genome_old = list(SeqIO.parse('../Data/Genomes/fa1090.gb', 'genbank'))[0]\n",
    "\n",
    "# all_names = [feature.qualifiers['locus_tag'][0] for feature in genome_old.features if feature.type=='gene']\n",
    "# gene_list = random.sample(all_names, 90)\n",
    "# all_list = [i for i in all_names if i not in gene_list]\n",
    "\n",
    "upstream = 200\n",
    "\n",
    "with open('./5utrs_all_sans_down.fasta', 'w') as outfile:\n",
    "    for feature in genome_old.features[:]:\n",
    "        if feature.type == 'gene':\n",
    "            if feature.qualifiers['locus_tag'][0] not in gene_list:\n",
    "                if feature.strand == 1:\n",
    "                    temp_seq = genome_old.seq[feature.location.start-upstream:feature.location.start]\n",
    "                elif feature.strand == -1:\n",
    "                    temp_seq = genome_old.seq[feature.location.end:feature.location.end+upstream].reverse_complement()\n",
    "                if len(temp_seq) == upstream:\n",
    "                    outfile.write('>{}({})\\n'.format(feature.qualifiers['locus_tag'][0], feature.strand))\n",
    "                    outfile.write('{}\\n'.format(str(temp_seq)))\n",
    "\n"
   ]
  },
  {
   "cell_type": "code",
   "execution_count": null,
   "metadata": {
    "collapsed": true
   },
   "outputs": [],
   "source": []
  },
  {
   "cell_type": "code",
   "execution_count": null,
   "metadata": {
    "collapsed": true
   },
   "outputs": [],
   "source": []
  },
  {
   "cell_type": "code",
   "execution_count": null,
   "metadata": {
    "collapsed": true
   },
   "outputs": [],
   "source": []
  }
 ],
 "metadata": {
  "kernelspec": {
   "display_name": "Python 3",
   "language": "python",
   "name": "python3"
  },
  "language_info": {
   "codemirror_mode": {
    "name": "ipython",
    "version": 3
   },
   "file_extension": ".py",
   "mimetype": "text/x-python",
   "name": "python",
   "nbconvert_exporter": "python",
   "pygments_lexer": "ipython3",
   "version": "3.4.1"
  }
 },
 "nbformat": 4,
 "nbformat_minor": 0
}
