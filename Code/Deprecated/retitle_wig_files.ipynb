{
 "cells": [
  {
   "cell_type": "code",
   "execution_count": 1,
   "metadata": {
    "collapsed": true
   },
   "outputs": [],
   "source": [
    "%matplotlib inline"
   ]
  },
  {
   "cell_type": "code",
   "execution_count": 2,
   "metadata": {
    "collapsed": true
   },
   "outputs": [],
   "source": [
    "import glob"
   ]
  },
  {
   "cell_type": "markdown",
   "metadata": {},
   "source": [
    "# The purpose of this codeblock is to read / edit .wig files for proper use / deposition in UCSC genome browser\n",
    "\n",
    "Turns out, indexing starts at 1 there. And there are a whole bunch of things that you need to have at the top of the file for it to read properly so here goes"
   ]
  },
  {
   "cell_type": "code",
   "execution_count": 5,
   "metadata": {
    "collapsed": false
   },
   "outputs": [
    {
     "name": "stdout",
     "output_type": "stream",
     "text": [
      "../GEO_submission/final_wigs/h202_noTex_rep3_r_UCSC.wig\n",
      "../GEO_submission/final_wigs/h202_noTex_rep1_f_UCSC.wig\n",
      "../GEO_submission/final_wigs/h202_noTex_rep3_f_UCSC.wig\n",
      "../GEO_submission/final_wigs/h202_noTex_rep1_r_UCSC.wig\n",
      "../GEO_submission/final_wigs/h202_noTex_rep2_f_UCSC.wig\n",
      "../GEO_submission/final_wigs/h202_noTex_rep2_r_UCSC.wig\n",
      "../GEO_submission/final_wigs/h202_Tex_rep2_r_UCSC.wig\n",
      "../GEO_submission/final_wigs/h202_Tex_rep2_f_UCSC.wig\n",
      "../GEO_submission/final_wigs/control_noTex_rep2_f_UCSC.wig\n",
      "../GEO_submission/final_wigs/control_Tex_rep2_f_UCSC.wig\n",
      "../GEO_submission/final_wigs/control_noTex_rep2_r_UCSC.wig\n",
      "../GEO_submission/final_wigs/control_Tex_rep2_r_UCSC.wig\n",
      "../GEO_submission/final_wigs/h202_Tex_rep3_f_UCSC.wig\n",
      "../GEO_submission/final_wigs/h202_Tex_rep3_r_UCSC.wig\n",
      "../GEO_submission/final_wigs/control_noTex_rep1_f_UCSC.wig\n",
      "../GEO_submission/final_wigs/control_Tex_rep1_f_UCSC.wig\n",
      "../GEO_submission/final_wigs/control_Tex_rep3_r_UCSC.wig\n",
      "../GEO_submission/final_wigs/control_noTex_rep3_r_UCSC.wig\n",
      "../GEO_submission/final_wigs/control_noTex_rep1_r_UCSC.wig\n",
      "../GEO_submission/final_wigs/control_Tex_rep1_r_UCSC.wig\n",
      "../GEO_submission/final_wigs/control_Tex_rep3_f_UCSC.wig\n",
      "../GEO_submission/final_wigs/control_noTex_rep3_f_UCSC.wig\n"
     ]
    }
   ],
   "source": [
    "for infile_loc in glob.glob('../GEO_submission/final_wigs/*.wig'):\n",
    "    all_lines = []\n",
    "    with open(infile_loc, 'r') as infile:\n",
    "        for line in infile:\n",
    "            all_lines.append(line.split('\\t'))\n",
    "    assert len(all_lines[0])\n",
    "    assert all_lines[0][0][:12] == 'variableStep'\n",
    "    all_lines = all_lines[1:]\n",
    "    assert len(all_lines[0]) == 2\n",
    "    indices, vals = zip(*all_lines)\n",
    "    indices = [int(index)+1 for index in indices]\n",
    "    new_lines = list(zip(indices, vals))\n",
    "    \n",
    "    r,g,b = 0, 0, 0\n",
    "    if 'control_' in infile_loc:\n",
    "        if '_r.wig' in infile_loc:\n",
    "            r += 200\n",
    "            g += 200\n",
    "            b += 200\n",
    "    elif 'h202_' in infile_loc:\n",
    "        r += 255\n",
    "        if '_r.wig' in infile_loc:\n",
    "            g += 200\n",
    "            b += 200\n",
    "\n",
    "    header = 'track type=wiggle_0 name=\"{}\" visibility=2 graphType=bar autoScale=on color={},{},{}\\n'.format(infile_loc.split('/')[-1], r, g, b)\n",
    "    line2 = 'variableStep chrom=chr\\n'\n",
    "    outfile_loc = infile_loc.replace('.wig', '_UCSC.wig')\n",
    "    print(outfile_loc)\n",
    "    with open(outfile_loc, 'w') as outfile:\n",
    "        outfile.write(header)\n",
    "        outfile.write(line2)\n",
    "        for i,j in new_lines:\n",
    "            outfile.write('{}\\t{}'.format(i,j))"
   ]
  },
  {
   "cell_type": "code",
   "execution_count": null,
   "metadata": {
    "collapsed": false
   },
   "outputs": [],
   "source": []
  },
  {
   "cell_type": "code",
   "execution_count": null,
   "metadata": {
    "collapsed": false
   },
   "outputs": [],
   "source": []
  },
  {
   "cell_type": "code",
   "execution_count": null,
   "metadata": {
    "collapsed": false
   },
   "outputs": [],
   "source": []
  },
  {
   "cell_type": "code",
   "execution_count": null,
   "metadata": {
    "collapsed": false
   },
   "outputs": [],
   "source": []
  },
  {
   "cell_type": "code",
   "execution_count": null,
   "metadata": {
    "collapsed": false
   },
   "outputs": [],
   "source": [
    "r,g,b = 0, 0, 0\n",
    "if 'control_' in file_loc:\n",
    "    if '_r.wig' in file_loc:\n",
    "        r += 200\n",
    "        g += 200\n",
    "        b += 200\n",
    "elif 'h202_' in file_loc:\n",
    "    r += 255\n",
    "    if '_r.wig' in file_loc:\n",
    "        g += 200\n",
    "        b += 200\n",
    "    \n",
    "header = 'track type=wiggle_0 name=\"{}\" visibility=2 graphType=bar autoScale=on color={},{},{}\\n'.format(file_loc.split('/')[-1], r, g, b)"
   ]
  },
  {
   "cell_type": "code",
   "execution_count": null,
   "metadata": {
    "collapsed": true
   },
   "outputs": [],
   "source": []
  },
  {
   "cell_type": "code",
   "execution_count": null,
   "metadata": {
    "collapsed": false
   },
   "outputs": [],
   "source": [
    "print(header)"
   ]
  },
  {
   "cell_type": "code",
   "execution_count": null,
   "metadata": {
    "collapsed": true
   },
   "outputs": [],
   "source": [
    "outfile_loc = './testing.wig'\n",
    "with open(outfile_loc, 'w') as outfile:\n",
    "    outfile.write(header)\n",
    "    outfile.write(line2)\n",
    "    for i,j in new_lines:\n",
    "        outfile.write('{}\\t{}'.format(i,j))"
   ]
  },
  {
   "cell_type": "code",
   "execution_count": null,
   "metadata": {
    "collapsed": true
   },
   "outputs": [],
   "source": []
  }
 ],
 "metadata": {
  "kernelspec": {
   "display_name": "Python 3",
   "language": "python",
   "name": "python3"
  },
  "language_info": {
   "codemirror_mode": {
    "name": "ipython",
    "version": 3
   },
   "file_extension": ".py",
   "mimetype": "text/x-python",
   "name": "python",
   "nbconvert_exporter": "python",
   "pygments_lexer": "ipython3",
   "version": "3.4.5"
  },
  "toc": {
   "colors": {
    "hover_highlight": "#DAA520",
    "navigate_num": "#000000",
    "navigate_text": "#333333",
    "running_highlight": "#FF0000",
    "selected_highlight": "#FFD700",
    "sidebar_border": "#EEEEEE",
    "wrapper_background": "#FFFFFF"
   },
   "moveMenuLeft": true,
   "nav_menu": {
    "height": "30px",
    "width": "252px"
   },
   "navigate_menu": true,
   "number_sections": true,
   "sideBar": true,
   "threshold": 4,
   "toc_cell": false,
   "toc_section_display": "block",
   "toc_window_display": false,
   "widenNotebook": false
  }
 },
 "nbformat": 4,
 "nbformat_minor": 0
}
