{
 "cells": [
  {
   "cell_type": "code",
   "execution_count": 2,
   "metadata": {
    "collapsed": false
   },
   "outputs": [],
   "source": [
    "%matplotlib inline\n",
    "%load_ext autoreload\n",
    "%autoreload 2"
   ]
  },
  {
   "cell_type": "code",
   "execution_count": 3,
   "metadata": {
    "collapsed": true
   },
   "outputs": [],
   "source": [
    "#Common imports\n",
    "from Bio import SeqIO\n",
    "from matplotlib import pyplot as plt\n",
    "import numpy as np\n",
    "from scipy import stats\n",
    "import pandas as pd\n",
    "\n",
    "#My helper library for this analysis\n",
    "import sequencing_analysis_library as SAL"
   ]
  },
  {
   "cell_type": "code",
   "execution_count": 11,
   "metadata": {
    "collapsed": true
   },
   "outputs": [],
   "source": [
    "genome_file = '/Users/adamhockenberry/Projects/Neisseria/Data/Genomes/fa1090.gb'\n",
    "# genome_file = '/Users/adamhockenberry/Projects/Neisseria/Code/temp_new_fa1090.gb'\n",
    "genome = list(SeqIO.parse(genome_file, 'genbank'))[0]\n",
    "organism = 'Neisseria'\n",
    "\n",
    "# genome_file = '/Users/adamhockenberry/Projects/Neisseria/Data/Genomes/na1000.gb'\n",
    "# genome = list(SeqIO.parse(genome_file, 'genbank'))[0]\n",
    "# organism = 'Caulobacter'\n",
    "\n",
    "genome_features_dict = SAL.get_genome_features(genome)"
   ]
  },
  {
   "cell_type": "code",
   "execution_count": null,
   "metadata": {
    "collapsed": true
   },
   "outputs": [],
   "source": [
    "sample_files = ['SQ-1', 'SQ-2', 'SQ-3', 'SQ-4', 'SQ-5', 'SQ-6']\n",
    "organism = 'Neisseria'\n",
    "file_ending = '_best_20_100_all'\n",
    "\n",
    "\n",
    "data_to_read = []\n",
    "for sample_file in sample_files:\n",
    "    fwd_file = '../Data/{}/{}{}_f.wig'.format(organism, sample_file, file_ending)\n",
    "    rev_file = '../Data/{}/{}{}_r.wig'.format(organism, sample_file, file_ending)\n",
    "    data_to_read.append([sample_file, fwd_file, rev_file])\n",
    "    \n",
    "sequencing_dict_meta_f, sequencing_dict_meta_r = SAL.read_multiple_wiggles(data_to_read)\n",
    "\n",
    "rpkm_dict_meta = SAL.get_rpkm_dict(genome_features_dict, sequencing_dict_meta_f, sequencing_dict_meta_r)"
   ]
  },
  {
   "cell_type": "code",
   "execution_count": null,
   "metadata": {
    "collapsed": false
   },
   "outputs": [],
   "source": [
    "control_labels = ['SQ-1', 'SQ-3', 'SQ-5']\n",
    "treatment_labels = ['SQ-2', 'SQ-4', 'SQ-6']\n",
    "\n",
    "data_table = []\n",
    "gene_names = []\n",
    "for gene in rpkm_dict_meta[control_labels[0]].keys():\n",
    "    control_exp = []\n",
    "    treatment_exp = []\n",
    "    for control_label in control_labels:\n",
    "        control_exp.append(rpkm_dict_meta[control_label][gene])\n",
    "    for treatment_label in treatment_labels:\n",
    "        treatment_exp.append(rpkm_dict_meta[treatment_label][gene])\n",
    "        \n",
    "    t_val, p_val= stats.ttest_ind(control_exp, treatment_exp, equal_var=True)\n",
    "    \n",
    "    control_exp_log = np.log2(control_exp)\n",
    "    treatment_exp_log = np.log2(treatment_exp)\n",
    "    t_val_log, p_val_log = stats.ttest_ind(control_exp_log, treatment_exp_log)\n",
    "    \n",
    "    log_fold_diff = np.log2(np.mean(treatment_exp))-np.log2(np.mean(control_exp))\n",
    "    output_line = control_exp + treatment_exp\n",
    "    output_line.extend([np.mean(control_exp), np.std(control_exp),\\\n",
    "                        np.mean(treatment_exp), np.std(treatment_exp),\\\n",
    "                       p_val, p_val_log, log_fold_diff])\n",
    "    data_table.append(output_line)\n",
    "    gene_names.append(gene)\n",
    "\n",
    "col_names = ['RPKM(SQ-1)','RPKM(SQ-3)','RPKM(SQ-5)',\\\n",
    "             'RPKM(SQ-2)','RPKM(SQ-4)','RPKM(SQ-6)',\\\n",
    "             'Avg (SQ-1, SQ-3, SQ-5)', 'St.Dev. (SQ-1, SQ-3, SQ-5)',\\\n",
    "             'Avg (SQ-2, SQ-4, SQ-6)', 'St.Dev. (SQ-2, SQ-4, SQ-6)',\\\n",
    "             'T-test(p-value)', 'T-test(p-value) on log transformed RPKM', 'log2(fold change)']\n",
    "\n",
    "df = pd.DataFrame(data_table, index=gene_names, columns=col_names)\n",
    "sort_df = df.sort_index()\n",
    "sort_df"
   ]
  },
  {
   "cell_type": "markdown",
   "metadata": {},
   "source": [
    "# For temporarily culling this df"
   ]
  },
  {
   "cell_type": "code",
   "execution_count": null,
   "metadata": {
    "collapsed": true
   },
   "outputs": [],
   "source": [
    "df_annotations = pd.read_excel('new_to_old_annotation.xlsx', sheet_name='Sheet1')"
   ]
  },
  {
   "cell_type": "code",
   "execution_count": null,
   "metadata": {
    "collapsed": false
   },
   "outputs": [],
   "source": [
    "for index in sort_df.index:\n",
    "    if type(df_annotations.loc[index]['Old ID']) != float :\n",
    "        sort_df = sort_df.drop(index)"
   ]
  },
  {
   "cell_type": "code",
   "execution_count": null,
   "metadata": {
    "collapsed": false
   },
   "outputs": [],
   "source": [
    "len(sort_df.index)"
   ]
  },
  {
   "cell_type": "markdown",
   "metadata": {},
   "source": [
    "# Saving and re-reading"
   ]
  },
  {
   "cell_type": "code",
   "execution_count": null,
   "metadata": {
    "collapsed": true
   },
   "outputs": [],
   "source": [
    "sort_df.to_excel('../Results/Neisseria_gonorrhea_RNA_seq_best_20_100_March13_ONLY_NEW.xlsx', sheet_name='Sheet1')"
   ]
  },
  {
   "cell_type": "code",
   "execution_count": 5,
   "metadata": {
    "collapsed": false
   },
   "outputs": [],
   "source": [
    "df = pd.read_excel('../Results/Neisseria_gonorrhea_RNA_seq_best_20_100_Feb23.xlsx', sheet_name='Sheet1')"
   ]
  },
  {
   "cell_type": "code",
   "execution_count": 6,
   "metadata": {
    "collapsed": false
   },
   "outputs": [
    {
     "data": {
      "text/html": [
       "<div style=\"max-height:1000px;max-width:1500px;overflow:auto;\">\n",
       "<table border=\"1\" class=\"dataframe\">\n",
       "  <thead>\n",
       "    <tr style=\"text-align: right;\">\n",
       "      <th></th>\n",
       "      <th>RPKM(SQ-1)</th>\n",
       "      <th>RPKM(SQ-3)</th>\n",
       "      <th>RPKM(SQ-5)</th>\n",
       "      <th>RPKM(SQ-2)</th>\n",
       "      <th>RPKM(SQ-4)</th>\n",
       "      <th>RPKM(SQ-6)</th>\n",
       "      <th>Avg (SQ-1, SQ-3, SQ-5)</th>\n",
       "      <th>St.Dev. (SQ-1, SQ-3, SQ-5)</th>\n",
       "      <th>Avg (SQ-2, SQ-4, SQ-6)</th>\n",
       "      <th>St.Dev. (SQ-2, SQ-4, SQ-6)</th>\n",
       "      <th>T-test(p-value)</th>\n",
       "      <th>T-test(p-value) on log transformed RPKM</th>\n",
       "      <th>log2(fold change)</th>\n",
       "    </tr>\n",
       "  </thead>\n",
       "  <tbody>\n",
       "    <tr>\n",
       "      <th>count</th>\n",
       "      <td>   1975.000000</td>\n",
       "      <td>  1975.000000</td>\n",
       "      <td>  1975.000000</td>\n",
       "      <td>  1975.000000</td>\n",
       "      <td>  1975.000000</td>\n",
       "      <td>  1975.000000</td>\n",
       "      <td>  1975.000000</td>\n",
       "      <td> 1975.000000</td>\n",
       "      <td>  1975.000000</td>\n",
       "      <td> 1975.000000</td>\n",
       "      <td> 1962.000000</td>\n",
       "      <td> 1899.000000</td>\n",
       "      <td> 1962.000000</td>\n",
       "    </tr>\n",
       "    <tr>\n",
       "      <th>mean</th>\n",
       "      <td>    574.975916</td>\n",
       "      <td>   570.841031</td>\n",
       "      <td>   568.504572</td>\n",
       "      <td>   578.923371</td>\n",
       "      <td>   573.166633</td>\n",
       "      <td>   548.132912</td>\n",
       "      <td>   571.440507</td>\n",
       "      <td>   46.894452</td>\n",
       "      <td>   566.740972</td>\n",
       "      <td>   65.667679</td>\n",
       "      <td>    0.347844</td>\n",
       "      <td>    0.344189</td>\n",
       "      <td>         NaN</td>\n",
       "    </tr>\n",
       "    <tr>\n",
       "      <th>std</th>\n",
       "      <td>   3118.361187</td>\n",
       "      <td>  2883.654540</td>\n",
       "      <td>  2800.823261</td>\n",
       "      <td>  2476.204386</td>\n",
       "      <td>  2488.615008</td>\n",
       "      <td>  2338.913682</td>\n",
       "      <td>  2927.686935</td>\n",
       "      <td>  233.537615</td>\n",
       "      <td>  2421.954887</td>\n",
       "      <td>  248.533403</td>\n",
       "      <td>    0.305791</td>\n",
       "      <td>    0.307077</td>\n",
       "      <td>         NaN</td>\n",
       "    </tr>\n",
       "    <tr>\n",
       "      <th>min</th>\n",
       "      <td>      0.000000</td>\n",
       "      <td>     0.000000</td>\n",
       "      <td>     0.000000</td>\n",
       "      <td>     0.000000</td>\n",
       "      <td>     0.000000</td>\n",
       "      <td>     0.000000</td>\n",
       "      <td>     0.000000</td>\n",
       "      <td>    0.000000</td>\n",
       "      <td>     0.000000</td>\n",
       "      <td>    0.000000</td>\n",
       "      <td>    0.000020</td>\n",
       "      <td>    0.000012</td>\n",
       "      <td>        -inf</td>\n",
       "    </tr>\n",
       "    <tr>\n",
       "      <th>25%</th>\n",
       "      <td>     28.848664</td>\n",
       "      <td>    26.735433</td>\n",
       "      <td>    26.638341</td>\n",
       "      <td>    32.740689</td>\n",
       "      <td>    31.515681</td>\n",
       "      <td>    28.598442</td>\n",
       "      <td>    28.242838</td>\n",
       "      <td>    2.252586</td>\n",
       "      <td>    32.121249</td>\n",
       "      <td>    3.613763</td>\n",
       "      <td>    0.071940</td>\n",
       "      <td>    0.064213</td>\n",
       "      <td>   -0.148845</td>\n",
       "    </tr>\n",
       "    <tr>\n",
       "      <th>50%</th>\n",
       "      <td>    126.644099</td>\n",
       "      <td>   118.989469</td>\n",
       "      <td>   125.617068</td>\n",
       "      <td>   135.491098</td>\n",
       "      <td>   129.907911</td>\n",
       "      <td>   126.458827</td>\n",
       "      <td>   123.765936</td>\n",
       "      <td>    8.886990</td>\n",
       "      <td>   131.997431</td>\n",
       "      <td>   12.891814</td>\n",
       "      <td>    0.259191</td>\n",
       "      <td>    0.252493</td>\n",
       "      <td>    0.071719</td>\n",
       "    </tr>\n",
       "    <tr>\n",
       "      <th>75%</th>\n",
       "      <td>    406.921329</td>\n",
       "      <td>   401.089275</td>\n",
       "      <td>   399.910741</td>\n",
       "      <td>   435.354855</td>\n",
       "      <td>   439.496706</td>\n",
       "      <td>   415.418049</td>\n",
       "      <td>   405.617588</td>\n",
       "      <td>   29.263576</td>\n",
       "      <td>   433.836819</td>\n",
       "      <td>   39.578867</td>\n",
       "      <td>    0.582982</td>\n",
       "      <td>    0.583459</td>\n",
       "      <td>    0.314710</td>\n",
       "    </tr>\n",
       "    <tr>\n",
       "      <th>max</th>\n",
       "      <td> 102950.900051</td>\n",
       "      <td> 87499.282873</td>\n",
       "      <td> 84267.401225</td>\n",
       "      <td> 78487.494336</td>\n",
       "      <td> 80769.830305</td>\n",
       "      <td> 70656.740714</td>\n",
       "      <td> 91572.528050</td>\n",
       "      <td> 8153.190655</td>\n",
       "      <td> 76638.021785</td>\n",
       "      <td> 5811.704811</td>\n",
       "      <td>    0.999822</td>\n",
       "      <td>    0.999406</td>\n",
       "      <td>         inf</td>\n",
       "    </tr>\n",
       "  </tbody>\n",
       "</table>\n",
       "</div>"
      ],
      "text/plain": [
       "          RPKM(SQ-1)    RPKM(SQ-3)    RPKM(SQ-5)    RPKM(SQ-2)    RPKM(SQ-4)  \\\n",
       "count    1975.000000   1975.000000   1975.000000   1975.000000   1975.000000   \n",
       "mean      574.975916    570.841031    568.504572    578.923371    573.166633   \n",
       "std      3118.361187   2883.654540   2800.823261   2476.204386   2488.615008   \n",
       "min         0.000000      0.000000      0.000000      0.000000      0.000000   \n",
       "25%        28.848664     26.735433     26.638341     32.740689     31.515681   \n",
       "50%       126.644099    118.989469    125.617068    135.491098    129.907911   \n",
       "75%       406.921329    401.089275    399.910741    435.354855    439.496706   \n",
       "max    102950.900051  87499.282873  84267.401225  78487.494336  80769.830305   \n",
       "\n",
       "         RPKM(SQ-6)  Avg (SQ-1, SQ-3, SQ-5)  St.Dev. (SQ-1, SQ-3, SQ-5)  \\\n",
       "count   1975.000000             1975.000000                 1975.000000   \n",
       "mean     548.132912              571.440507                   46.894452   \n",
       "std     2338.913682             2927.686935                  233.537615   \n",
       "min        0.000000                0.000000                    0.000000   \n",
       "25%       28.598442               28.242838                    2.252586   \n",
       "50%      126.458827              123.765936                    8.886990   \n",
       "75%      415.418049              405.617588                   29.263576   \n",
       "max    70656.740714            91572.528050                 8153.190655   \n",
       "\n",
       "       Avg (SQ-2, SQ-4, SQ-6)  St.Dev. (SQ-2, SQ-4, SQ-6)  T-test(p-value)  \\\n",
       "count             1975.000000                 1975.000000      1962.000000   \n",
       "mean               566.740972                   65.667679         0.347844   \n",
       "std               2421.954887                  248.533403         0.305791   \n",
       "min                  0.000000                    0.000000         0.000020   \n",
       "25%                 32.121249                    3.613763         0.071940   \n",
       "50%                131.997431                   12.891814         0.259191   \n",
       "75%                433.836819                   39.578867         0.582982   \n",
       "max              76638.021785                 5811.704811         0.999822   \n",
       "\n",
       "       T-test(p-value) on log transformed RPKM  log2(fold change)  \n",
       "count                              1899.000000        1962.000000  \n",
       "mean                                  0.344189                NaN  \n",
       "std                                   0.307077                NaN  \n",
       "min                                   0.000012               -inf  \n",
       "25%                                   0.064213          -0.148845  \n",
       "50%                                   0.252493           0.071719  \n",
       "75%                                   0.583459           0.314710  \n",
       "max                                   0.999406                inf  "
      ]
     },
     "execution_count": 6,
     "metadata": {},
     "output_type": "execute_result"
    }
   ],
   "source": [
    "df.describe()"
   ]
  },
  {
   "cell_type": "code",
   "execution_count": 10,
   "metadata": {
    "collapsed": false
   },
   "outputs": [
    {
     "data": {
      "text/plain": [
       "0.98674751877671429"
      ]
     },
     "execution_count": 10,
     "metadata": {},
     "output_type": "execute_result"
    }
   ],
   "source": [
    "np.percentile(df['Avg (SQ-1, SQ-3, SQ-5)'],5)"
   ]
  },
  {
   "cell_type": "code",
   "execution_count": null,
   "metadata": {
    "collapsed": false
   },
   "outputs": [],
   "source": [
    "print(\"Comparison within controls:\")\n",
    "for position, control_label in enumerate(control_labels):\n",
    "    for comparison in control_labels[position+1:]:\n",
    "        if comparison != control_label:\n",
    "            print(control_label, comparison, stats.spearmanr(df['RPKM({})'.format(control_label)], df['RPKM({})'.format(comparison)]))\n",
    "print(\"Comparison within treatments:\")\n",
    "for position, treatment_label in enumerate(treatment_labels):\n",
    "    for comparison in treatment_labels[position+1:]:\n",
    "        if comparison != treatment_label:\n",
    "            print(treatment_label, comparison, stats.spearmanr(df['RPKM({})'.format(treatment_label)], df['RPKM({})'.format(comparison)]))          \n",
    "print(\"Comparison between control and treatment:\")\n",
    "for control_label in control_labels:\n",
    "    for comparison in treatment_labels:\n",
    "        if comparison != control_label:\n",
    "            print(control_label, comparison, stats.spearmanr(df['RPKM({})'.format(control_label)], df['RPKM({})'.format(comparison)]))"
   ]
  },
  {
   "cell_type": "code",
   "execution_count": null,
   "metadata": {
    "collapsed": false
   },
   "outputs": [],
   "source": [
    "a = np.log2(df['RPKM(SQ-2)']) - np.log2(df['RPKM(SQ-1)'])\n",
    "b = np.log2(df['RPKM(SQ-4)']) - np.log2(df['RPKM(SQ-3)'])\n",
    "c = np.log2(df['RPKM(SQ-6)']) - np.log2(df['RPKM(SQ-5)'])\n",
    "print(stats.spearmanr(a,b))\n",
    "print(stats.spearmanr(a,c))\n",
    "print(stats.spearmanr(b,c))\n",
    "\n",
    "plt.figure()\n",
    "plt.plot(a,b, 'bo')"
   ]
  },
  {
   "cell_type": "code",
   "execution_count": null,
   "metadata": {
    "collapsed": false
   },
   "outputs": [],
   "source": [
    "to_compare_a = 'Avg (SQ-1, SQ-3, SQ-5)'\n",
    "to_compare_b = 'Avg (SQ-2, SQ-4, SQ-6)'\n",
    "SAL.plot_correlations_combined(to_compare_a, to_compare_b, df, save_file_name=False)"
   ]
  },
  {
   "cell_type": "code",
   "execution_count": null,
   "metadata": {
    "collapsed": true
   },
   "outputs": [],
   "source": []
  }
 ],
 "metadata": {
  "kernelspec": {
   "display_name": "Python 3",
   "language": "python",
   "name": "python3"
  },
  "language_info": {
   "codemirror_mode": {
    "name": "ipython",
    "version": 3
   },
   "file_extension": ".py",
   "mimetype": "text/x-python",
   "name": "python",
   "nbconvert_exporter": "python",
   "pygments_lexer": "ipython3",
   "version": "3.4.1"
  }
 },
 "nbformat": 4,
 "nbformat_minor": 0
}
